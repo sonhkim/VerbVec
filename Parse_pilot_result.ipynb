{
 "cells": [
  {
   "cell_type": "code",
   "execution_count": null,
   "metadata": {},
   "outputs": [],
   "source": [
    "import pandas as pd\n",
    "import csv\n",
    "import os"
   ]
  },
  {
   "cell_type": "code",
   "execution_count": null,
   "metadata": {},
   "outputs": [],
   "source": [
    "#os.getcwd()"
   ]
  },
  {
   "cell_type": "code",
   "execution_count": null,
   "metadata": {},
   "outputs": [],
   "source": [
    "os.chdir('../../results/Ver2_NELLAB')"
   ]
  },
  {
   "cell_type": "code",
   "execution_count": null,
   "metadata": {},
   "outputs": [],
   "source": [
    "#files = os.listdir()"
   ]
  },
  {
   "cell_type": "code",
   "execution_count": null,
   "metadata": {},
   "outputs": [],
   "source": [
    "files = [f for f in os.listdir() if not f.startswith('.')]"
   ]
  },
  {
   "cell_type": "code",
   "execution_count": null,
   "metadata": {},
   "outputs": [],
   "source": [
    "print (files)"
   ]
  },
  {
   "cell_type": "code",
   "execution_count": null,
   "metadata": {},
   "outputs": [],
   "source": [
    "len(files)"
   ]
  },
  {
   "cell_type": "code",
   "execution_count": null,
   "metadata": {},
   "outputs": [],
   "source": [
    "num_anom = 0\n",
    "for f in files: \n",
    "    path = os.path.abspath(f)\n",
    "    if 'excl' not in f:\n",
    "        raw = pd.read_csv(path)\n",
    "        sub_id = raw.loc[1, \"responses\"].replace('\"', '')\n",
    "        sub_id = sub_id.replace('{', '').replace('}', '').split(':')[1]  \n",
    "        if sub_id == '':\n",
    "            sub_id = 'Anomonymous' + str(int(num_anom)+1)\n",
    "            print (sub_id)\n",
    "            num_anom += 1\n",
    "        raw_dict = raw.to_dict(orient='index')\n",
    "        \n",
    "        #i=0\n",
    "        out = list() \n",
    "        for k, row in raw_dict.items():\n",
    "            if k!=1:\n",
    "                if (len(row['responses']) > 1): \n",
    "                    #print (\"I am in!\")\n",
    "                    ind_tuple = []\n",
    "                    lem = row['lemma']\n",
    "                    feat1 = row['responses'].replace('\"', '').replace('{', '').replace('}', '').split(':')[0]\n",
    "                    resp = row['responses'].replace('\"', '').replace('{', '').replace('}', '').split(':')[1] \n",
    "                    feature = row['feature']\n",
    "                    if feat1 != feature :\n",
    "                        print (k, ' row is wrong') \n",
    "                        print (row)\n",
    "                    rt = row['rt']\n",
    "                    ind_tuple.append(sub_id) \n",
    "                    ind_tuple.append(lem) \n",
    "                    ind_tuple.append(feature) \n",
    "                    ind_tuple.append(resp) \n",
    "                    ind_tuple.append(rt) \n",
    "                    ind_tuple = tuple(ind_tuple) \n",
    "                    out.append(ind_tuple)\n",
    "                    \n",
    "    df = pd.DataFrame(out, columns=['sub_id', 'word', 'feature', 'response', 'RT'])\n",
    "    print('df is created for %s' %sub_id)\n",
    "    df.to_csv('eventconcept_pilot_ver2_%s.csv' %sub_id)\n"
   ]
  },
  {
   "cell_type": "code",
   "execution_count": null,
   "metadata": {},
   "outputs": [],
   "source": [
    "os.chdir('/Users/songheekim/Google Drive/Primary/jsp/jspsych-crea/pilot/results/Combined')"
   ]
  },
  {
   "cell_type": "code",
   "execution_count": null,
   "metadata": {},
   "outputs": [],
   "source": [
    "files_to_concat = [f for f in os.listdir() if not f.startswith('.')]"
   ]
  },
  {
   "cell_type": "code",
   "execution_count": null,
   "metadata": {},
   "outputs": [],
   "source": [
    "len(files_to_concat)"
   ]
  },
  {
   "cell_type": "code",
   "execution_count": null,
   "metadata": {},
   "outputs": [],
   "source": [
    "total = 0\n",
    "for i in range(len(files_to_concat)): \n",
    "    print (i)\n",
    "    print (type(i))\n",
    "    df = pd.read_csv(files_to_concat[i])\n",
    "    print(df.shape)\n",
    "    total += df.shape[0]\n",
    "    exec('df%d = df' %i)\n",
    "\n",
    "print ('===========')\n",
    "print (total)"
   ]
  },
  {
   "cell_type": "code",
   "execution_count": null,
   "metadata": {},
   "outputs": [],
   "source": [
    "df_list = [df0, df1, df2, df3, df4, df5, df6, df7, df8, df9, df10, df11, df12, df13, df14, df15]"
   ]
  },
  {
   "cell_type": "code",
   "execution_count": null,
   "metadata": {},
   "outputs": [],
   "source": [
    "df_grand = pd.concat(df_list)"
   ]
  },
  {
   "cell_type": "code",
   "execution_count": null,
   "metadata": {},
   "outputs": [],
   "source": [
    "df_grand.shape"
   ]
  },
  {
   "cell_type": "code",
   "execution_count": null,
   "metadata": {},
   "outputs": [],
   "source": [
    "df_grand.tail()"
   ]
  },
  {
   "cell_type": "code",
   "execution_count": null,
   "metadata": {},
   "outputs": [],
   "source": [
    "colnames = df_grand.columns.values.tolist()"
   ]
  },
  {
   "cell_type": "code",
   "execution_count": null,
   "metadata": {},
   "outputs": [],
   "source": [
    "df_grand_new = df_grand.drop(columns=[colnames[0]])"
   ]
  },
  {
   "cell_type": "code",
   "execution_count": null,
   "metadata": {},
   "outputs": [],
   "source": [
    "df_grand"
   ]
  },
  {
   "cell_type": "code",
   "execution_count": null,
   "metadata": {},
   "outputs": [],
   "source": [
    "df_grand_new"
   ]
  },
  {
   "cell_type": "code",
   "execution_count": null,
   "metadata": {},
   "outputs": [],
   "source": [
    "df_grand_new.to_csv('result_combined_N16.csv')"
   ]
  },
  {
   "cell_type": "code",
   "execution_count": null,
   "metadata": {},
   "outputs": [],
   "source": []
  },
  {
   "cell_type": "code",
   "execution_count": null,
   "metadata": {},
   "outputs": [],
   "source": []
  },
  {
   "cell_type": "code",
   "execution_count": null,
   "metadata": {},
   "outputs": [],
   "source": []
  },
  {
   "cell_type": "code",
   "execution_count": null,
   "metadata": {},
   "outputs": [],
   "source": []
  }
 ],
 "metadata": {
  "kernelspec": {
   "display_name": "Python 3",
   "language": "python",
   "name": "python3"
  },
  "language_info": {
   "codemirror_mode": {
    "name": "ipython",
    "version": 3
   },
   "file_extension": ".py",
   "mimetype": "text/x-python",
   "name": "python",
   "nbconvert_exporter": "python",
   "pygments_lexer": "ipython3",
   "version": "3.7.6"
  }
 },
 "nbformat": 4,
 "nbformat_minor": 4
}
